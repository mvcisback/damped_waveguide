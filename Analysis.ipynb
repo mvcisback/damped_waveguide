{
 "metadata": {
  "name": "",
  "signature": "sha256:9da96d2e4083c1707fe3453896407277156ae3b70568c5b64f7010f52a90a0f0"
 },
 "nbformat": 3,
 "nbformat_minor": 0,
 "worksheets": [
  {
   "cells": [
    {
     "cell_type": "markdown",
     "metadata": {},
     "source": [
      "# Picture of setup\n",
      "\n",
      "![](drum.jpg)\n",
      "![](drum_xray.jpg)"
     ]
    },
    {
     "cell_type": "code",
     "collapsed": false,
     "input": [
      "%matplotlib inline\n",
      "\n",
      "from __future__ import division\n",
      "\n",
      "import matplotlib.pyplot as plt\n",
      "from numpy import (argmax, abs, correlate, floor, arange, real,\n",
      "                   conjugate, concatenate, cos, exp)\n",
      "from numpy.fft import fft, ifft\n",
      "from scipy.signal import correlate, argrelmax, argrelmin\n",
      "from scipy.special import j0\n",
      "from scipy import stats\n",
      "from jacked import easy_client\n",
      "from glob import glob\n",
      "from numpy import savetxt, loadtxt\n",
      "from os.path import splitext\n",
      "from os import rename\n",
      "import time\n",
      "import numpy as np"
     ],
     "language": "python",
     "metadata": {},
     "outputs": [],
     "prompt_number": 263
    },
    {
     "cell_type": "markdown",
     "metadata": {},
     "source": [
      "# Capture data"
     ]
    },
    {
     "cell_type": "markdown",
     "metadata": {},
     "source": [
      "- Data now stored at: https://archive.org/edit/tap_data.tar.gz"
     ]
    },
    {
     "cell_type": "code",
     "collapsed": true,
     "input": [
      "with easy_client(name=\"captest\", channels_in=3, channels_out=2) as client:\n",
      "    captured = client.capture(sec=4)\n",
      "    SAMPLE_RATE = client.sample_rate\n",
      "    savetxt(\"data/data{}.txt\".format(0), captured)"
     ],
     "language": "python",
     "metadata": {},
     "outputs": []
    },
    {
     "cell_type": "code",
     "collapsed": false,
     "input": [
      "SAMPLE_RATE = 96000"
     ],
     "language": "python",
     "metadata": {},
     "outputs": [],
     "prompt_number": 1
    },
    {
     "cell_type": "code",
     "collapsed": false,
     "input": [
      "WINDOW_SIZE = 2**13"
     ],
     "language": "python",
     "metadata": {},
     "outputs": [],
     "prompt_number": 25
    },
    {
     "cell_type": "markdown",
     "metadata": {},
     "source": [
      "# Attempt at TDOA\n",
      "## Steps\n",
      "\n",
      "1. cross correlate\n",
      "2. find midpoint\n",
      "3. compute argmax\n",
      "4. argmax - midpoint is the time delay"
     ]
    },
    {
     "cell_type": "code",
     "collapsed": false,
     "input": [
      "from numpy import concatenate\n",
      "from itertools import combinations\n",
      "\n",
      "def tdoa(data, start, n=WINDOW_SIZE, debug=False):\n",
      "    tdoa_list = []\n",
      "    for i, j in combinations(range(data.shape[0]), 2):\n",
      "        x0 = data[i, start:start+n]\n",
      "        x1 = data[j, start:start+n]\n",
      "        y = real(ifft(fft(x0)*conjugate(fft(x1))))\n",
      "        right = y[0:len(y)/2]\n",
      "        left = y[len(y)/2:-1]\n",
      "        correlated = concatenate([left, right])\n",
      "    \n",
      "        center = len(correlated)/2\n",
      "        max_index = argmax(correlated)\n",
      "        offset = max_index - center\n",
      "        tdoa_list.append(offset)\n",
      "   \n",
      "        if debug:\n",
      "            plt.plot(arange(-center, center), correlated)\n",
      "            print(\"center: {}\".format(center))\n",
      "            print(\"sample offset {}\".format(offset))\n",
      "            print(\"tdoa: {} sec\".format(offset/SAMPLE_RATE))\n",
      "    \n",
      "    return tdoa_list\n",
      "\n",
      "def tdoas(data, n=WINDOW_SIZE):\n",
      "    tdoa_vecs = []\n",
      "    for start in range(0, data.shape[1], OFFSET//2):\n",
      "        if np.max(data[0][start:start+OFFSET]) > 0.013:\n",
      "            tdoa_vecs.append(tdoa(data, start, n=n))\n",
      "    return np.vstack(tdoa_vecs)"
     ],
     "language": "python",
     "metadata": {},
     "outputs": [],
     "prompt_number": 27
    },
    {
     "cell_type": "code",
     "collapsed": false,
     "input": [
      "median_tdoas = []\n",
      "for i, data in enumerate([loadtxt(path) for path in glob(\"tap_data/*\")]):\n",
      "    x = tdoas(data)\n",
      "    median_tdoas.append([np.median(x.T[i]) for i in range(3)])\n",
      "Y = np.vstack(median_tdoas)"
     ],
     "language": "python",
     "metadata": {},
     "outputs": [],
     "prompt_number": 28
    },
    {
     "cell_type": "code",
     "collapsed": false,
     "input": [
      "for i, row in enumerate(Y):\n",
      "    print(i+1, row)"
     ],
     "language": "python",
     "metadata": {},
     "outputs": [
      {
       "output_type": "stream",
       "stream": "stdout",
       "text": [
        "(1, array([-7.5, -6.5,  7.5]))\n",
        "(2, array([-55.5,   3. ,  46.5]))\n",
        "(3, array([ 2. , -1. ,  2.5]))\n",
        "(4, array([-1. ,  1.5,  3. ]))\n",
        "(5, array([-1.5,  3.5,  6.5]))\n",
        "(6, array([-16.5,  -1.5,  14. ]))\n",
        "(7, array([-53. ,  -8.5,  21. ]))\n",
        "(8, array([-60.5,  -5.5,  56.5]))\n",
        "(9, array([-12.5,   0.5,  35. ]))\n",
        "(10, array([ 0.5,  1.5,  6. ]))\n",
        "(11, array([-0.5, -0.5,  3.5]))\n",
        "(12, array([ -0.5,  -0.5,  14.5]))\n",
        "(13, array([-21.5,   5.5,  40.5]))\n",
        "(14, array([-64.5,   2.5,  58. ]))\n",
        "(15, array([-82. , -19.5,  49.5]))\n",
        "(16, array([-26.5, -22.5,  10.5]))\n",
        "(17, array([-20.5, -10.5,  13.5]))\n",
        "(18, array([-14.5,  28.5,  37.5]))\n",
        "(19, array([ -0.5,  43.5,  45.5]))\n",
        "(20, array([ 482.5,  184.5, -349.5]))\n",
        "(21, array([ 193.5,   56. ,  -45.5]))\n",
        "(22, array([ 1.5,  3.5,  0.5]))\n",
        "(23, array([ 5.5,  6.5,  0.5]))\n",
        "(24, array([ 3.5,  5.5, -4.5]))\n",
        "(25, array([   0.5,  208. ,  197.5]))\n",
        "(26, array([  -2.5,  151.5,   69.5]))\n",
        "(27, array([  7. , -13. ,   1.5]))\n",
        "(28, array([ 70.5,   1.5, -21.5]))\n",
        "(29, array([-251.5,  -29.5,   -0.5]))\n",
        "(30, array([-211.5, -211. ,   -7.5]))\n",
        "(31, array([-205.5,   -0.5,  -16.5]))\n",
        "(32, array([ 53.5,   0. , -13.5]))\n",
        "(33, array([ -0.5,  51.5,  53.5]))\n",
        "(34, array([-17.5,  -9.5,   7.5]))\n",
        "(35, array([-25.5,  34.5, -29.5]))\n",
        "(36, array([-184.5, -244.5,  -29.5]))\n",
        "(37, array([-190. , -223. ,  -24.5]))\n",
        "(38, array([-179.5, -210.5,   -1.5]))\n",
        "(39, array([-59.5,  -6. ,  11.5]))\n",
        "(40, array([-21.5,  -1.5,  22.5]))\n",
        "(41, array([-53.5,  -0.5,   2.5]))\n",
        "(42, array([-197.5, -189.5,    0.5]))\n",
        "(43, array([-198.5, -240. ,    1. ]))\n",
        "(44, array([-188.5, -228.5,    1.5]))\n",
        "(45, array([-25.5, -14.5,   7. ]))\n"
       ]
      }
     ],
     "prompt_number": 296
    },
    {
     "cell_type": "markdown",
     "metadata": {},
     "source": [
      "# Comparison with expected solution"
     ]
    },
    {
     "cell_type": "markdown",
     "metadata": {},
     "source": [
      "- Fixing $\\theta$ and $r$, modes are sinusoids decaying as $\\exp(-at)$\n",
      "- Varying $r$ and fixing $\\theta$ and $t$ should result in Bessel functions\n",
      "- Varying $\\theta$ and fixing $t$ and $r$ should give sinusoids "
     ]
    },
    {
     "cell_type": "code",
     "collapsed": false,
     "input": [
      "data = loadtxt(\"tap_data/data15.txt\")[2, 10500:WINDOW_SIZE*2.3]"
     ],
     "language": "python",
     "metadata": {},
     "outputs": [],
     "prompt_number": 358
    },
    {
     "cell_type": "markdown",
     "metadata": {},
     "source": [
      "## Analysis with fixed $\\theta$ and $r$"
     ]
    },
    {
     "cell_type": "code",
     "collapsed": false,
     "input": [
      "peaks_max = argrelmax(data, order=1000)[0]\n",
      "peaks_min = argrelmin(data, order=1000)[0]\n",
      "\n",
      "t = arange(len(data))*1/SAMPLE_RATE\n",
      "plt.plot(t[peaks_max], np.log(data[peaks_max]), 'ro')\n",
      "slope, intercept, r_value, p_value, std_err = stats.linregress(\n",
      "    t[peaks_max][:8], np.log(data[peaks_max][:8]))\n",
      "plt.plot(t[peaks_max], slope*t[peaks_max] + intercept, 'b--')\n",
      "plt.xlabel(\"time (t)\")\n",
      "plt.ylabel(\"log magnitude of peaks\")\n",
      "plt.xticks(t[peaks_max][::3])\n",
      "plt.show()\n",
      "\n",
      "plt.plot(t, data)\n",
      "plt.plot(peaks_max*1/SAMPLE_RATE, data[peaks_max], 'ro')\n",
      "plt.xlabel(\"Time (s)\")\n",
      "plt.ylabel(\"Magnitude\")\n",
      "plt.xlim(0.015)\n",
      "plt.plot(t, -cos(t*428+1)*exp(t*slope + intercept))\n",
      "plt.show()\n",
      "\n",
      "plt.magnitude_spectrum(data, Fs=SAMPLE_RATE)\n",
      "plt.xlim(0, 2000)\n",
      "plt.xticks([428])\n",
      "plt.show()\n",
      "\n",
      "print(\"attenuation constant: {}\".format(-slope))\n",
      "print(\"decay time {}\".format(-1/slope))\n"
     ],
     "language": "python",
     "metadata": {},
     "outputs": [
      {
       "metadata": {},
       "output_type": "display_data",
       "png": "[encoded data removed]",
       "text": [
        "<matplotlib.figure.Figure at 0x7fa74e5ac310>"
       ]
      },
      {
       "metadata": {},
       "output_type": "display_data",
       "png": "[encoded data removed]",
       "text": [
        "<matplotlib.figure.Figure at 0x7fa7492add90>"
       ]
      },
      {
       "metadata": {},
       "output_type": "display_data",
       "png": "[encoded data removed]",
       "text": [
        "<matplotlib.figure.Figure at 0x7fa74e52c3d0>"
       ]
      },
      {
       "output_type": "stream",
       "stream": "stdout",
       "text": [
        "attenuation constant: 40.5201429948\n",
        "decay time 0.0246790836875\n"
       ]
      }
     ],
     "prompt_number": 359
    },
    {
     "cell_type": "markdown",
     "metadata": {},
     "source": [
      "TODO: Compute wave speed"
     ]
    },
    {
     "cell_type": "markdown",
     "metadata": {},
     "source": [
      "## Angular Dependence"
     ]
    },
    {
     "cell_type": "markdown",
     "metadata": {},
     "source": [
      "## Radial Dependence"
     ]
    }
   ],
   "metadata": {}
  }
 ]
}