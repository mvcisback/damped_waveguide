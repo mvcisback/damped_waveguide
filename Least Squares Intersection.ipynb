{
 "metadata": {
  "name": "",
  "signature": "sha256:6b2f021323c6be4a86ad1108791a6c71ac71a4a4a2711a3e6783cded5f5a2a61"
 },
 "nbformat": 3,
 "nbformat_minor": 0,
 "worksheets": [
  {
   "cells": [
    {
     "cell_type": "code",
     "collapsed": false,
     "input": [
      "%matplotlib inline\n",
      "\n",
      "from __future__ import division\n",
      "\n",
      "import matplotlib.pyplot as plt\n",
      "import numpy as np\n",
      "from numpy.linalg import norm"
     ],
     "language": "python",
     "metadata": {},
     "outputs": [],
     "prompt_number": 38
    },
    {
     "cell_type": "markdown",
     "metadata": {},
     "source": [
      "# least square solution to intersection of lines"
     ]
    },
    {
     "cell_type": "code",
     "collapsed": false,
     "input": [
      "a2 = np.array([1.001, 0])\n",
      "a1 = np.array([0, 0.001])\n",
      "a3 = np.array([0.47,1])\n",
      "n1 = np.array([1, 1])\n",
      "n1 = n1 / norm(n1)\n",
      "n2 = np.array([-1, 1])\n",
      "n2 = n2 / norm(n2)\n",
      "n3 = np.array([.1, -1])\n",
      "n3 = n3 / norm(n3)\n",
      "\n",
      "A = np.matrix([a1, a2, a3]).T\n",
      "N = np.matrix([n1, n2, n3]).T\n",
      "\n",
      "\n",
      "def p(n, a):\n",
      "    t = np.linspace(0, 1, 10).reshape(10, 1)\n",
      "    return np.kron(np.ones_like(t), a) + np.kron(t, n)\n",
      "\n",
      "def P(A, N):\n",
      "    return np.array([p(n, a) for n, a in zip(N.T, A.T)])\n",
      "\n",
      "P_ = P(A, N)\n",
      "\n",
      "for p_ in P_:\n",
      " plt.plot(p_[:, 0], p_[:, 1])\n",
      "\n",
      "plt.show()\n",
      "print(A)\n",
      "print(N)"
     ],
     "language": "python",
     "metadata": {},
     "outputs": [
      {
       "metadata": {},
       "output_type": "display_data",
       "png": "[encoded data removed]",
       "text": [
        "<matplotlib.figure.Figure at 0x7fa0ba4cd290>"
       ]
      },
      {
       "output_type": "stream",
       "stream": "stdout",
       "text": [
        "[[  0.00000000e+00   1.00100000e+00   4.70000000e-01]\n",
        " [  1.00000000e-03   0.00000000e+00   1.00000000e+00]]\n",
        "[[ 0.70710678 -0.70710678  0.09950372]\n",
        " [ 0.70710678  0.70710678 -0.99503719]]\n"
       ]
      }
     ],
     "prompt_number": 39
    },
    {
     "cell_type": "code",
     "collapsed": false,
     "input": [
      "R = np.sum(np.eye(2) - n.T.dot(n) for n in N.T)\n",
      "q = np.sum((np.eye(2) - n.T.dot(n)).dot(a.T) for n, a in zip(N.T, A.T))\n",
      "np.linalg.pinv(R)*q"
     ],
     "language": "python",
     "metadata": {},
     "outputs": [
      {
       "metadata": {},
       "output_type": "pyout",
       "prompt_number": 42,
       "text": [
        "matrix([[ 0.50985149],\n",
        "        [ 0.50198515]])"
       ]
      }
     ],
     "prompt_number": 42
    },
    {
     "cell_type": "markdown",
     "metadata": {},
     "source": [
      "# Null Space solution for partially known line parameters"
     ]
    },
    {
     "cell_type": "code",
     "collapsed": false,
     "input": [],
     "language": "python",
     "metadata": {},
     "outputs": [],
     "prompt_number": 3
    },
    {
     "cell_type": "code",
     "collapsed": false,
     "input": [
      "n1"
     ],
     "language": "python",
     "metadata": {},
     "outputs": [
      {
       "metadata": {},
       "output_type": "pyout",
       "prompt_number": 36,
       "text": [
        "array([ 0.70710678,  0.70710678])"
       ]
      }
     ],
     "prompt_number": 36
    },
    {
     "cell_type": "code",
     "collapsed": false,
     "input": [],
     "language": "python",
     "metadata": {},
     "outputs": []
    }
   ],
   "metadata": {}
  }
 ]
}